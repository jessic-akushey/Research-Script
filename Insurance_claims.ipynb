{
 "cells": [
  {
   "cell_type": "markdown",
   "id": "fec2353b",
   "metadata": {},
   "source": [
    "# Fraudulent Claims Analysis\n",
    "This analysis aims to answer research question 2, prediction of fraudulent claims. Creating a model that predicts whether an insurance claim is fraudulent or not, enables the automated classification of claims, with no or very little input from a claims officer. A classification model is used to classify a claim as either fraud or not. In practice, in any instance where a model classifies a large number of claims as fraudulent, this warrants a review by a claims investigator or expert.  \n",
    "This analysis contains 4 sections\n",
    "1. Data Importing and Inspection\n",
    "2. Data Preprocessing\n",
    "3. Feature Engineering\n",
    "4. Model Building and Evaluation\n",
    "\n",
    "At the end of this task, the models will be analysed to examine whether machine learning models can be used to detect fraudulent claims"
   ]
  },
  {
   "cell_type": "markdown",
   "id": "882ad424",
   "metadata": {},
   "source": [
    "## Section 1: Data Importing and Inspection"
   ]
  },
  {
   "cell_type": "markdown",
   "id": "4df4d39a",
   "metadata": {},
   "source": [
    "### Importing the necessary libraries"
   ]
  },
  {
   "cell_type": "code",
   "execution_count": 1,
   "id": "adfe59a2",
   "metadata": {},
   "outputs": [],
   "source": [
    "# for data importing and manipulation\n",
    "import pandas as pd   \n",
    "\n",
    "# for data array and matrix manipulation\n",
    "import numpy as np  \n",
    "\n",
    "# for plotting data\n",
    "import matplotlib.pyplot as plt \n",
    "import seaborn as sns\n",
    "\n",
    "# for encoding and standizing the data\n",
    "from sklearn.compose import ColumnTransformer\n",
    "from sklearn.preprocessing import StandardScaler\n",
    "from sklearn.preprocessing import OneHotEncoder\n",
    "from sklearn.preprocessing import LabelEncoder\n",
    "\n",
    "# to handle imbalanced data\n",
    "from imblearn.over_sampling import SMOTE\n",
    "\n",
    "# to split the dataset into train and test set\n",
    "from sklearn.model_selection import train_test_split\n",
    "\n",
    "# for performing hyperparameter tuning\n",
    "from sklearn.model_selection import GridSearchCV\n",
    "\n",
    "# models to be trained\n",
    "from sklearn.tree import DecisionTreeClassifier\n",
    "from sklearn.linear_model import LogisticRegression\n",
    "from sklearn.ensemble import RandomForestClassifier\n",
    "from sklearn.svm import SVC\n",
    "from sklearn.neighbors import KNeighborsClassifier\n",
    "from sklearn.cluster import KMeans\n",
    "import lightgbm as lgb\n",
    "from xgboost import XGBClassifier\n",
    "from sklearn.cluster import DBSCAN\n",
    "\n",
    "# for model evaluation \n",
    "from sklearn.metrics import accuracy_score\n",
    "from sklearn.metrics import classification_report, confusion_matrix\n",
    "from sklearn.metrics import precision_recall_fscore_support as score\n",
    "from sklearn.metrics import  silhouette_score\n",
    "import statistics as sta\n",
    "from scipy.stats import skew, kurtosis\n",
    "\n",
    "\n",
    "from scipy.spatial.distance import cdist\n",
    "from sklearn.decomposition import PCA"
   ]
  },
  {
   "cell_type": "markdown",
   "id": "4b1344a3",
   "metadata": {},
   "source": [
    "### Reading the data\n",
    "The insurance data is in a csv format and imported using tha __read_csv__ function from the __pandas__ library. "
   ]
  },
  {
   "cell_type": "code",
   "execution_count": 2,
   "id": "0b5cf4c6",
   "metadata": {},
   "outputs": [
    {
     "data": {
      "text/html": [
       "<div>\n",
       "<style scoped>\n",
       "    .dataframe tbody tr th:only-of-type {\n",
       "        vertical-align: middle;\n",
       "    }\n",
       "\n",
       "    .dataframe tbody tr th {\n",
       "        vertical-align: top;\n",
       "    }\n",
       "\n",
       "    .dataframe thead th {\n",
       "        text-align: right;\n",
       "    }\n",
       "</style>\n",
       "<table border=\"1\" class=\"dataframe\">\n",
       "  <thead>\n",
       "    <tr style=\"text-align: right;\">\n",
       "      <th></th>\n",
       "      <th>months_as_customer</th>\n",
       "      <th>age</th>\n",
       "      <th>policy_number</th>\n",
       "      <th>policy_bind_date</th>\n",
       "      <th>policy_state</th>\n",
       "      <th>policy_csl</th>\n",
       "      <th>policy_deductable</th>\n",
       "      <th>policy_annual_premium</th>\n",
       "      <th>umbrella_limit</th>\n",
       "      <th>insured_zip</th>\n",
       "      <th>...</th>\n",
       "      <th>police_report_available</th>\n",
       "      <th>total_claim_amount</th>\n",
       "      <th>injury_claim</th>\n",
       "      <th>property_claim</th>\n",
       "      <th>vehicle_claim</th>\n",
       "      <th>auto_make</th>\n",
       "      <th>auto_model</th>\n",
       "      <th>auto_year</th>\n",
       "      <th>fraud_reported</th>\n",
       "      <th>_c39</th>\n",
       "    </tr>\n",
       "  </thead>\n",
       "  <tbody>\n",
       "    <tr>\n",
       "      <th>0</th>\n",
       "      <td>328</td>\n",
       "      <td>48</td>\n",
       "      <td>521585</td>\n",
       "      <td>2014-10-17</td>\n",
       "      <td>OH</td>\n",
       "      <td>250/500</td>\n",
       "      <td>1000</td>\n",
       "      <td>1406.91</td>\n",
       "      <td>0</td>\n",
       "      <td>466132</td>\n",
       "      <td>...</td>\n",
       "      <td>YES</td>\n",
       "      <td>71610</td>\n",
       "      <td>6510</td>\n",
       "      <td>13020</td>\n",
       "      <td>52080</td>\n",
       "      <td>Saab</td>\n",
       "      <td>92x</td>\n",
       "      <td>2004</td>\n",
       "      <td>Y</td>\n",
       "      <td>NaN</td>\n",
       "    </tr>\n",
       "    <tr>\n",
       "      <th>1</th>\n",
       "      <td>228</td>\n",
       "      <td>42</td>\n",
       "      <td>342868</td>\n",
       "      <td>2006-06-27</td>\n",
       "      <td>IN</td>\n",
       "      <td>250/500</td>\n",
       "      <td>2000</td>\n",
       "      <td>1197.22</td>\n",
       "      <td>5000000</td>\n",
       "      <td>468176</td>\n",
       "      <td>...</td>\n",
       "      <td>?</td>\n",
       "      <td>5070</td>\n",
       "      <td>780</td>\n",
       "      <td>780</td>\n",
       "      <td>3510</td>\n",
       "      <td>Mercedes</td>\n",
       "      <td>E400</td>\n",
       "      <td>2007</td>\n",
       "      <td>Y</td>\n",
       "      <td>NaN</td>\n",
       "    </tr>\n",
       "    <tr>\n",
       "      <th>2</th>\n",
       "      <td>134</td>\n",
       "      <td>29</td>\n",
       "      <td>687698</td>\n",
       "      <td>2000-09-06</td>\n",
       "      <td>OH</td>\n",
       "      <td>100/300</td>\n",
       "      <td>2000</td>\n",
       "      <td>1413.14</td>\n",
       "      <td>5000000</td>\n",
       "      <td>430632</td>\n",
       "      <td>...</td>\n",
       "      <td>NO</td>\n",
       "      <td>34650</td>\n",
       "      <td>7700</td>\n",
       "      <td>3850</td>\n",
       "      <td>23100</td>\n",
       "      <td>Dodge</td>\n",
       "      <td>RAM</td>\n",
       "      <td>2007</td>\n",
       "      <td>N</td>\n",
       "      <td>NaN</td>\n",
       "    </tr>\n",
       "    <tr>\n",
       "      <th>3</th>\n",
       "      <td>256</td>\n",
       "      <td>41</td>\n",
       "      <td>227811</td>\n",
       "      <td>1990-05-25</td>\n",
       "      <td>IL</td>\n",
       "      <td>250/500</td>\n",
       "      <td>2000</td>\n",
       "      <td>1415.74</td>\n",
       "      <td>6000000</td>\n",
       "      <td>608117</td>\n",
       "      <td>...</td>\n",
       "      <td>NO</td>\n",
       "      <td>63400</td>\n",
       "      <td>6340</td>\n",
       "      <td>6340</td>\n",
       "      <td>50720</td>\n",
       "      <td>Chevrolet</td>\n",
       "      <td>Tahoe</td>\n",
       "      <td>2014</td>\n",
       "      <td>Y</td>\n",
       "      <td>NaN</td>\n",
       "    </tr>\n",
       "    <tr>\n",
       "      <th>4</th>\n",
       "      <td>228</td>\n",
       "      <td>44</td>\n",
       "      <td>367455</td>\n",
       "      <td>2014-06-06</td>\n",
       "      <td>IL</td>\n",
       "      <td>500/1000</td>\n",
       "      <td>1000</td>\n",
       "      <td>1583.91</td>\n",
       "      <td>6000000</td>\n",
       "      <td>610706</td>\n",
       "      <td>...</td>\n",
       "      <td>NO</td>\n",
       "      <td>6500</td>\n",
       "      <td>1300</td>\n",
       "      <td>650</td>\n",
       "      <td>4550</td>\n",
       "      <td>Accura</td>\n",
       "      <td>RSX</td>\n",
       "      <td>2009</td>\n",
       "      <td>N</td>\n",
       "      <td>NaN</td>\n",
       "    </tr>\n",
       "  </tbody>\n",
       "</table>\n",
       "<p>5 rows × 40 columns</p>\n",
       "</div>"
      ],
      "text/plain": [
       "   months_as_customer  age  policy_number policy_bind_date policy_state  \\\n",
       "0                 328   48         521585       2014-10-17           OH   \n",
       "1                 228   42         342868       2006-06-27           IN   \n",
       "2                 134   29         687698       2000-09-06           OH   \n",
       "3                 256   41         227811       1990-05-25           IL   \n",
       "4                 228   44         367455       2014-06-06           IL   \n",
       "\n",
       "  policy_csl  policy_deductable  policy_annual_premium  umbrella_limit  \\\n",
       "0    250/500               1000                1406.91               0   \n",
       "1    250/500               2000                1197.22         5000000   \n",
       "2    100/300               2000                1413.14         5000000   \n",
       "3    250/500               2000                1415.74         6000000   \n",
       "4   500/1000               1000                1583.91         6000000   \n",
       "\n",
       "   insured_zip  ... police_report_available total_claim_amount injury_claim  \\\n",
       "0       466132  ...                     YES              71610         6510   \n",
       "1       468176  ...                       ?               5070          780   \n",
       "2       430632  ...                      NO              34650         7700   \n",
       "3       608117  ...                      NO              63400         6340   \n",
       "4       610706  ...                      NO               6500         1300   \n",
       "\n",
       "  property_claim vehicle_claim  auto_make  auto_model auto_year  \\\n",
       "0          13020         52080       Saab         92x      2004   \n",
       "1            780          3510   Mercedes        E400      2007   \n",
       "2           3850         23100      Dodge         RAM      2007   \n",
       "3           6340         50720  Chevrolet       Tahoe      2014   \n",
       "4            650          4550     Accura         RSX      2009   \n",
       "\n",
       "  fraud_reported _c39  \n",
       "0              Y  NaN  \n",
       "1              Y  NaN  \n",
       "2              N  NaN  \n",
       "3              Y  NaN  \n",
       "4              N  NaN  \n",
       "\n",
       "[5 rows x 40 columns]"
      ]
     },
     "execution_count": 2,
     "metadata": {},
     "output_type": "execute_result"
    }
   ],
   "source": [
    "# reading the data into pandas\n",
    "df = pd.read_csv(\"insurance_claims.csv\")\n",
    "\n",
    "# printing the first 5 rows\n",
    "df.head()"
   ]
  },
  {
   "cell_type": "markdown",
   "id": "c087f769",
   "metadata": {},
   "source": [
    "### Inspecting the data"
   ]
  },
  {
   "cell_type": "code",
   "execution_count": 3,
   "id": "c8560a1f",
   "metadata": {},
   "outputs": [
    {
     "name": "stdout",
     "output_type": "stream",
     "text": [
      "<class 'pandas.core.frame.DataFrame'>\n",
      "RangeIndex: 1000 entries, 0 to 999\n",
      "Data columns (total 40 columns):\n",
      " #   Column                       Non-Null Count  Dtype  \n",
      "---  ------                       --------------  -----  \n",
      " 0   months_as_customer           1000 non-null   int64  \n",
      " 1   age                          1000 non-null   int64  \n",
      " 2   policy_number                1000 non-null   int64  \n",
      " 3   policy_bind_date             1000 non-null   object \n",
      " 4   policy_state                 1000 non-null   object \n",
      " 5   policy_csl                   1000 non-null   object \n",
      " 6   policy_deductable            1000 non-null   int64  \n",
      " 7   policy_annual_premium        1000 non-null   float64\n",
      " 8   umbrella_limit               1000 non-null   int64  \n",
      " 9   insured_zip                  1000 non-null   int64  \n",
      " 10  insured_sex                  1000 non-null   object \n",
      " 11  insured_education_level      1000 non-null   object \n",
      " 12  insured_occupation           1000 non-null   object \n",
      " 13  insured_hobbies              1000 non-null   object \n",
      " 14  insured_relationship         1000 non-null   object \n",
      " 15  capital-gains                1000 non-null   int64  \n",
      " 16  capital-loss                 1000 non-null   int64  \n",
      " 17  incident_date                1000 non-null   object \n",
      " 18  incident_type                1000 non-null   object \n",
      " 19  collision_type               1000 non-null   object \n",
      " 20  incident_severity            1000 non-null   object \n",
      " 21  authorities_contacted        1000 non-null   object \n",
      " 22  incident_state               1000 non-null   object \n",
      " 23  incident_city                1000 non-null   object \n",
      " 24  incident_location            1000 non-null   object \n",
      " 25  incident_hour_of_the_day     1000 non-null   int64  \n",
      " 26  number_of_vehicles_involved  1000 non-null   int64  \n",
      " 27  property_damage              1000 non-null   object \n",
      " 28  bodily_injuries              1000 non-null   int64  \n",
      " 29  witnesses                    1000 non-null   int64  \n",
      " 30  police_report_available      1000 non-null   object \n",
      " 31  total_claim_amount           1000 non-null   int64  \n",
      " 32  injury_claim                 1000 non-null   int64  \n",
      " 33  property_claim               1000 non-null   int64  \n",
      " 34  vehicle_claim                1000 non-null   int64  \n",
      " 35  auto_make                    1000 non-null   object \n",
      " 36  auto_model                   1000 non-null   object \n",
      " 37  auto_year                    1000 non-null   int64  \n",
      " 38  fraud_reported               1000 non-null   object \n",
      " 39  _c39                         0 non-null      float64\n",
      "dtypes: float64(2), int64(17), object(21)\n",
      "memory usage: 312.6+ KB\n"
     ]
    }
   ],
   "source": [
    "# printing information about the dataset\n",
    "df.info()"
   ]
  },
  {
   "cell_type": "code",
   "execution_count": 4,
   "id": "97488ec4",
   "metadata": {},
   "outputs": [
    {
     "data": {
      "text/html": [
       "<div>\n",
       "<style scoped>\n",
       "    .dataframe tbody tr th:only-of-type {\n",
       "        vertical-align: middle;\n",
       "    }\n",
       "\n",
       "    .dataframe tbody tr th {\n",
       "        vertical-align: top;\n",
       "    }\n",
       "\n",
       "    .dataframe thead th {\n",
       "        text-align: right;\n",
       "    }\n",
       "</style>\n",
       "<table border=\"1\" class=\"dataframe\">\n",
       "  <thead>\n",
       "    <tr style=\"text-align: right;\">\n",
       "      <th></th>\n",
       "      <th>months_as_customer</th>\n",
       "      <th>age</th>\n",
       "      <th>policy_number</th>\n",
       "      <th>policy_deductable</th>\n",
       "      <th>policy_annual_premium</th>\n",
       "      <th>umbrella_limit</th>\n",
       "      <th>insured_zip</th>\n",
       "      <th>capital-gains</th>\n",
       "      <th>capital-loss</th>\n",
       "      <th>incident_hour_of_the_day</th>\n",
       "      <th>number_of_vehicles_involved</th>\n",
       "      <th>bodily_injuries</th>\n",
       "      <th>witnesses</th>\n",
       "      <th>total_claim_amount</th>\n",
       "      <th>injury_claim</th>\n",
       "      <th>property_claim</th>\n",
       "      <th>vehicle_claim</th>\n",
       "      <th>auto_year</th>\n",
       "      <th>_c39</th>\n",
       "    </tr>\n",
       "  </thead>\n",
       "  <tbody>\n",
       "    <tr>\n",
       "      <th>count</th>\n",
       "      <td>1000.000000</td>\n",
       "      <td>1000.000000</td>\n",
       "      <td>1000.000000</td>\n",
       "      <td>1000.000000</td>\n",
       "      <td>1000.000000</td>\n",
       "      <td>1.000000e+03</td>\n",
       "      <td>1000.000000</td>\n",
       "      <td>1000.000000</td>\n",
       "      <td>1000.000000</td>\n",
       "      <td>1000.000000</td>\n",
       "      <td>1000.00000</td>\n",
       "      <td>1000.000000</td>\n",
       "      <td>1000.000000</td>\n",
       "      <td>1000.00000</td>\n",
       "      <td>1000.000000</td>\n",
       "      <td>1000.000000</td>\n",
       "      <td>1000.000000</td>\n",
       "      <td>1000.000000</td>\n",
       "      <td>0.0</td>\n",
       "    </tr>\n",
       "    <tr>\n",
       "      <th>mean</th>\n",
       "      <td>203.954000</td>\n",
       "      <td>38.948000</td>\n",
       "      <td>546238.648000</td>\n",
       "      <td>1136.000000</td>\n",
       "      <td>1256.406150</td>\n",
       "      <td>1.101000e+06</td>\n",
       "      <td>501214.488000</td>\n",
       "      <td>25126.100000</td>\n",
       "      <td>-26793.700000</td>\n",
       "      <td>11.644000</td>\n",
       "      <td>1.83900</td>\n",
       "      <td>0.992000</td>\n",
       "      <td>1.487000</td>\n",
       "      <td>52761.94000</td>\n",
       "      <td>7433.420000</td>\n",
       "      <td>7399.570000</td>\n",
       "      <td>37928.950000</td>\n",
       "      <td>2005.103000</td>\n",
       "      <td>NaN</td>\n",
       "    </tr>\n",
       "    <tr>\n",
       "      <th>std</th>\n",
       "      <td>115.113174</td>\n",
       "      <td>9.140287</td>\n",
       "      <td>257063.005276</td>\n",
       "      <td>611.864673</td>\n",
       "      <td>244.167395</td>\n",
       "      <td>2.297407e+06</td>\n",
       "      <td>71701.610941</td>\n",
       "      <td>27872.187708</td>\n",
       "      <td>28104.096686</td>\n",
       "      <td>6.951373</td>\n",
       "      <td>1.01888</td>\n",
       "      <td>0.820127</td>\n",
       "      <td>1.111335</td>\n",
       "      <td>26401.53319</td>\n",
       "      <td>4880.951853</td>\n",
       "      <td>4824.726179</td>\n",
       "      <td>18886.252893</td>\n",
       "      <td>6.015861</td>\n",
       "      <td>NaN</td>\n",
       "    </tr>\n",
       "    <tr>\n",
       "      <th>min</th>\n",
       "      <td>0.000000</td>\n",
       "      <td>19.000000</td>\n",
       "      <td>100804.000000</td>\n",
       "      <td>500.000000</td>\n",
       "      <td>433.330000</td>\n",
       "      <td>-1.000000e+06</td>\n",
       "      <td>430104.000000</td>\n",
       "      <td>0.000000</td>\n",
       "      <td>-111100.000000</td>\n",
       "      <td>0.000000</td>\n",
       "      <td>1.00000</td>\n",
       "      <td>0.000000</td>\n",
       "      <td>0.000000</td>\n",
       "      <td>100.00000</td>\n",
       "      <td>0.000000</td>\n",
       "      <td>0.000000</td>\n",
       "      <td>70.000000</td>\n",
       "      <td>1995.000000</td>\n",
       "      <td>NaN</td>\n",
       "    </tr>\n",
       "    <tr>\n",
       "      <th>25%</th>\n",
       "      <td>115.750000</td>\n",
       "      <td>32.000000</td>\n",
       "      <td>335980.250000</td>\n",
       "      <td>500.000000</td>\n",
       "      <td>1089.607500</td>\n",
       "      <td>0.000000e+00</td>\n",
       "      <td>448404.500000</td>\n",
       "      <td>0.000000</td>\n",
       "      <td>-51500.000000</td>\n",
       "      <td>6.000000</td>\n",
       "      <td>1.00000</td>\n",
       "      <td>0.000000</td>\n",
       "      <td>1.000000</td>\n",
       "      <td>41812.50000</td>\n",
       "      <td>4295.000000</td>\n",
       "      <td>4445.000000</td>\n",
       "      <td>30292.500000</td>\n",
       "      <td>2000.000000</td>\n",
       "      <td>NaN</td>\n",
       "    </tr>\n",
       "    <tr>\n",
       "      <th>50%</th>\n",
       "      <td>199.500000</td>\n",
       "      <td>38.000000</td>\n",
       "      <td>533135.000000</td>\n",
       "      <td>1000.000000</td>\n",
       "      <td>1257.200000</td>\n",
       "      <td>0.000000e+00</td>\n",
       "      <td>466445.500000</td>\n",
       "      <td>0.000000</td>\n",
       "      <td>-23250.000000</td>\n",
       "      <td>12.000000</td>\n",
       "      <td>1.00000</td>\n",
       "      <td>1.000000</td>\n",
       "      <td>1.000000</td>\n",
       "      <td>58055.00000</td>\n",
       "      <td>6775.000000</td>\n",
       "      <td>6750.000000</td>\n",
       "      <td>42100.000000</td>\n",
       "      <td>2005.000000</td>\n",
       "      <td>NaN</td>\n",
       "    </tr>\n",
       "    <tr>\n",
       "      <th>75%</th>\n",
       "      <td>276.250000</td>\n",
       "      <td>44.000000</td>\n",
       "      <td>759099.750000</td>\n",
       "      <td>2000.000000</td>\n",
       "      <td>1415.695000</td>\n",
       "      <td>0.000000e+00</td>\n",
       "      <td>603251.000000</td>\n",
       "      <td>51025.000000</td>\n",
       "      <td>0.000000</td>\n",
       "      <td>17.000000</td>\n",
       "      <td>3.00000</td>\n",
       "      <td>2.000000</td>\n",
       "      <td>2.000000</td>\n",
       "      <td>70592.50000</td>\n",
       "      <td>11305.000000</td>\n",
       "      <td>10885.000000</td>\n",
       "      <td>50822.500000</td>\n",
       "      <td>2010.000000</td>\n",
       "      <td>NaN</td>\n",
       "    </tr>\n",
       "    <tr>\n",
       "      <th>max</th>\n",
       "      <td>479.000000</td>\n",
       "      <td>64.000000</td>\n",
       "      <td>999435.000000</td>\n",
       "      <td>2000.000000</td>\n",
       "      <td>2047.590000</td>\n",
       "      <td>1.000000e+07</td>\n",
       "      <td>620962.000000</td>\n",
       "      <td>100500.000000</td>\n",
       "      <td>0.000000</td>\n",
       "      <td>23.000000</td>\n",
       "      <td>4.00000</td>\n",
       "      <td>2.000000</td>\n",
       "      <td>3.000000</td>\n",
       "      <td>114920.00000</td>\n",
       "      <td>21450.000000</td>\n",
       "      <td>23670.000000</td>\n",
       "      <td>79560.000000</td>\n",
       "      <td>2015.000000</td>\n",
       "      <td>NaN</td>\n",
       "    </tr>\n",
       "  </tbody>\n",
       "</table>\n",
       "</div>"
      ],
      "text/plain": [
       "       months_as_customer          age  policy_number  policy_deductable  \\\n",
       "count         1000.000000  1000.000000    1000.000000        1000.000000   \n",
       "mean           203.954000    38.948000  546238.648000        1136.000000   \n",
       "std            115.113174     9.140287  257063.005276         611.864673   \n",
       "min              0.000000    19.000000  100804.000000         500.000000   \n",
       "25%            115.750000    32.000000  335980.250000         500.000000   \n",
       "50%            199.500000    38.000000  533135.000000        1000.000000   \n",
       "75%            276.250000    44.000000  759099.750000        2000.000000   \n",
       "max            479.000000    64.000000  999435.000000        2000.000000   \n",
       "\n",
       "       policy_annual_premium  umbrella_limit    insured_zip  capital-gains  \\\n",
       "count            1000.000000    1.000000e+03    1000.000000    1000.000000   \n",
       "mean             1256.406150    1.101000e+06  501214.488000   25126.100000   \n",
       "std               244.167395    2.297407e+06   71701.610941   27872.187708   \n",
       "min               433.330000   -1.000000e+06  430104.000000       0.000000   \n",
       "25%              1089.607500    0.000000e+00  448404.500000       0.000000   \n",
       "50%              1257.200000    0.000000e+00  466445.500000       0.000000   \n",
       "75%              1415.695000    0.000000e+00  603251.000000   51025.000000   \n",
       "max              2047.590000    1.000000e+07  620962.000000  100500.000000   \n",
       "\n",
       "        capital-loss  incident_hour_of_the_day  number_of_vehicles_involved  \\\n",
       "count    1000.000000               1000.000000                   1000.00000   \n",
       "mean   -26793.700000                 11.644000                      1.83900   \n",
       "std     28104.096686                  6.951373                      1.01888   \n",
       "min   -111100.000000                  0.000000                      1.00000   \n",
       "25%    -51500.000000                  6.000000                      1.00000   \n",
       "50%    -23250.000000                 12.000000                      1.00000   \n",
       "75%         0.000000                 17.000000                      3.00000   \n",
       "max         0.000000                 23.000000                      4.00000   \n",
       "\n",
       "       bodily_injuries    witnesses  total_claim_amount  injury_claim  \\\n",
       "count      1000.000000  1000.000000          1000.00000   1000.000000   \n",
       "mean          0.992000     1.487000         52761.94000   7433.420000   \n",
       "std           0.820127     1.111335         26401.53319   4880.951853   \n",
       "min           0.000000     0.000000           100.00000      0.000000   \n",
       "25%           0.000000     1.000000         41812.50000   4295.000000   \n",
       "50%           1.000000     1.000000         58055.00000   6775.000000   \n",
       "75%           2.000000     2.000000         70592.50000  11305.000000   \n",
       "max           2.000000     3.000000        114920.00000  21450.000000   \n",
       "\n",
       "       property_claim  vehicle_claim    auto_year  _c39  \n",
       "count     1000.000000    1000.000000  1000.000000   0.0  \n",
       "mean      7399.570000   37928.950000  2005.103000   NaN  \n",
       "std       4824.726179   18886.252893     6.015861   NaN  \n",
       "min          0.000000      70.000000  1995.000000   NaN  \n",
       "25%       4445.000000   30292.500000  2000.000000   NaN  \n",
       "50%       6750.000000   42100.000000  2005.000000   NaN  \n",
       "75%      10885.000000   50822.500000  2010.000000   NaN  \n",
       "max      23670.000000   79560.000000  2015.000000   NaN  "
      ]
     },
     "execution_count": 4,
     "metadata": {},
     "output_type": "execute_result"
    }
   ],
   "source": [
    "# printing the dscription of the dataset\n",
    "df.describe()"
   ]
  },
  {
   "cell_type": "markdown",
   "id": "628759df",
   "metadata": {},
   "source": [
    "\n",
    "\n",
    "\n",
    "\n",
    "\n",
    "\n"
   ]
  },
  {
   "cell_type": "markdown",
   "id": "baa3d4db",
   "metadata": {},
   "source": [
    "## Section 2: Data Preprocessing\n",
    "In this section it is ensured that the data contains no unwanted noise, such as null values, wrong data types, and invalid data values. "
   ]
  },
  {
   "cell_type": "markdown",
   "id": "77f56abf",
   "metadata": {},
   "source": [
    "Since column _c39 contains only null values, it should be dropped"
   ]
  },
  {
   "cell_type": "code",
   "execution_count": 5,
   "id": "49773440",
   "metadata": {},
   "outputs": [],
   "source": [
    "# dropping the _c39 column, since it doesn't contain any information\n",
    "df.drop('_c39', axis=1, inplace= True)"
   ]
  },
  {
   "cell_type": "markdown",
   "id": "a626934c",
   "metadata": {},
   "source": [
    "### Converting column policy bind date and incident date to datetime type"
   ]
  },
  {
   "cell_type": "code",
   "execution_count": 6,
   "id": "8cd15474",
   "metadata": {},
   "outputs": [],
   "source": [
    "# converting the date column into a datetime variable\n",
    "df['policy_bind_date'] = pd.to_datetime(df['policy_bind_date'])\n",
    "df['incident_date'] = pd.to_datetime(df['incident_date'])"
   ]
  },
  {
   "cell_type": "code",
   "execution_count": 7,
   "id": "607bda09",
   "metadata": {},
   "outputs": [
    {
     "data": {
      "image/png": "[encoded data removed]",
      "text/plain": [
       "<Figure size 1500x1500 with 20 Axes>"
      ]
     },
     "metadata": {},
     "output_type": "display_data"
    }
   ],
   "source": [
    "# displaying a histogram of all the numerical columns in the data\n",
    "df.hist(bins= 20, figsize=(15,15))\n",
    "plt.show()"
   ]
  },
  {
   "cell_type": "markdown",
   "id": "5ec69c4a",
   "metadata": {},
   "source": [
    "#### Checking for implicit null values\n",
    "The data values sometimes contain values that represent null values or invalid values"
   ]
  },
  {
   "cell_type": "code",
   "execution_count": 8,
   "id": "6f8e7b50",
   "metadata": {
    "scrolled": true
   },
   "outputs": [
    {
     "name": "stdout",
     "output_type": "stream",
     "text": [
      "policy_state\n",
      "['OH' 'IN' 'IL']\n",
      "_____________________________________________\n",
      "policy_csl\n",
      "['250/500' '100/300' '500/1000']\n",
      "_____________________________________________\n",
      "insured_sex\n",
      "['MALE' 'FEMALE']\n",
      "_____________________________________________\n",
      "insured_education_level\n",
      "['MD' 'PhD' 'Associate' 'Masters' 'High School' 'College' 'JD']\n",
      "_____________________________________________\n",
      "insured_occupation\n",
      "['craft-repair' 'machine-op-inspct' 'sales' 'armed-forces' 'tech-support'\n",
      " 'prof-specialty' 'other-service' 'priv-house-serv' 'exec-managerial'\n",
      " 'protective-serv' 'transport-moving' 'handlers-cleaners' 'adm-clerical'\n",
      " 'farming-fishing']\n",
      "_____________________________________________\n",
      "insured_hobbies\n",
      "['sleeping' 'reading' 'board-games' 'bungie-jumping' 'base-jumping' 'golf'\n",
      " 'camping' 'dancing' 'skydiving' 'movies' 'hiking' 'yachting' 'paintball'\n",
      " 'chess' 'kayaking' 'polo' 'basketball' 'video-games' 'cross-fit'\n",
      " 'exercise']\n",
      "_____________________________________________\n",
      "insured_relationship\n",
      "['husband' 'other-relative' 'own-child' 'unmarried' 'wife' 'not-in-family']\n",
      "_____________________________________________\n",
      "incident_type\n",
      "['Single Vehicle Collision' 'Vehicle Theft' 'Multi-vehicle Collision'\n",
      " 'Parked Car']\n",
      "_____________________________________________\n",
      "collision_type\n",
      "['Side Collision' '?' 'Rear Collision' 'Front Collision']\n",
      "_____________________________________________\n",
      "incident_severity\n",
      "['Major Damage' 'Minor Damage' 'Total Loss' 'Trivial Damage']\n",
      "_____________________________________________\n",
      "authorities_contacted\n",
      "['Police' 'None' 'Fire' 'Other' 'Ambulance']\n",
      "_____________________________________________\n",
      "incident_state\n",
      "['SC' 'VA' 'NY' 'OH' 'WV' 'NC' 'PA']\n",
      "_____________________________________________\n",
      "incident_city\n",
      "['Columbus' 'Riverwood' 'Arlington' 'Springfield' 'Hillsdale' 'Northbend'\n",
      " 'Northbrook']\n",
      "_____________________________________________\n",
      "property_damage\n",
      "['YES' '?' 'NO']\n",
      "_____________________________________________\n",
      "police_report_available\n",
      "['YES' '?' 'NO']\n",
      "_____________________________________________\n",
      "auto_make\n",
      "['Saab' 'Mercedes' 'Dodge' 'Chevrolet' 'Accura' 'Nissan' 'Audi' 'Toyota'\n",
      " 'Ford' 'Suburu' 'BMW' 'Jeep' 'Honda' 'Volkswagen']\n",
      "_____________________________________________\n",
      "auto_model\n",
      "['92x' 'E400' 'RAM' 'Tahoe' 'RSX' '95' 'Pathfinder' 'A5' 'Camry' 'F150'\n",
      " 'A3' 'Highlander' 'Neon' 'MDX' 'Maxima' 'Legacy' 'TL' 'Impreza'\n",
      " 'Forrestor' 'Escape' 'Corolla' '3 Series' 'C300' 'Wrangler' 'M5' 'X5'\n",
      " 'Civic' 'Passat' 'Silverado' 'CRV' '93' 'Accord' 'X6' 'Malibu' 'Fusion'\n",
      " 'Jetta' 'ML350' 'Ultima' 'Grand Cherokee']\n",
      "_____________________________________________\n",
      "fraud_reported\n",
      "['Y' 'N']\n",
      "_____________________________________________\n"
     ]
    }
   ],
   "source": [
    "# printing the values of the columns to identify the invalid columns in the data\n",
    "for col in df.columns:\n",
    "    if df[col].dtype == \"object\" and len(df[col].unique()) < 50:\n",
    "        print(str(col))\n",
    "        print(df[col].unique())\n",
    "        print('_____________________________________________')"
   ]
  },
  {
   "cell_type": "markdown",
   "id": "794dce73",
   "metadata": {},
   "source": [
    "Policy damage, collision type and police report available has an inconsistent value such as \"__?__\" and __blank spaces__. These values will have to be converted to Nan and the appropiate action has to be performed."
   ]
  },
  {
   "cell_type": "code",
   "execution_count": 9,
   "id": "6d3d97c7",
   "metadata": {},
   "outputs": [],
   "source": [
    "# replacing ? to nan\n",
    "df = df.replace(('?', ' '), np.nan)"
   ]
  },
  {
   "cell_type": "code",
   "execution_count": 10,
   "id": "f2b23679",
   "metadata": {},
   "outputs": [
    {
     "name": "stdout",
     "output_type": "stream",
     "text": [
      "<class 'pandas.core.frame.DataFrame'>\n",
      "RangeIndex: 1000 entries, 0 to 999\n",
      "Data columns (total 39 columns):\n",
      " #   Column                       Non-Null Count  Dtype         \n",
      "---  ------                       --------------  -----         \n",
      " 0   months_as_customer           1000 non-null   int64         \n",
      " 1   age                          1000 non-null   int64         \n",
      " 2   policy_number                1000 non-null   int64         \n",
      " 3   policy_bind_date             1000 non-null   datetime64[ns]\n",
      " 4   policy_state                 1000 non-null   object        \n",
      " 5   policy_csl                   1000 non-null   object        \n",
      " 6   policy_deductable            1000 non-null   int64         \n",
      " 7   policy_annual_premium        1000 non-null   float64       \n",
      " 8   umbrella_limit               1000 non-null   int64         \n",
      " 9   insured_zip                  1000 non-null   int64         \n",
      " 10  insured_sex                  1000 non-null   object        \n",
      " 11  insured_education_level      1000 non-null   object        \n",
      " 12  insured_occupation           1000 non-null   object        \n",
      " 13  insured_hobbies              1000 non-null   object        \n",
      " 14  insured_relationship         1000 non-null   object        \n",
      " 15  capital-gains                1000 non-null   int64         \n",
      " 16  capital-loss                 1000 non-null   int64         \n",
      " 17  incident_date                1000 non-null   datetime64[ns]\n",
      " 18  incident_type                1000 non-null   object        \n",
      " 19  collision_type               822 non-null    object        \n",
      " 20  incident_severity            1000 non-null   object        \n",
      " 21  authorities_contacted        1000 non-null   object        \n",
      " 22  incident_state               1000 non-null   object        \n",
      " 23  incident_city                1000 non-null   object        \n",
      " 24  incident_location            1000 non-null   object        \n",
      " 25  incident_hour_of_the_day     1000 non-null   int64         \n",
      " 26  number_of_vehicles_involved  1000 non-null   int64         \n",
      " 27  property_damage              640 non-null    object        \n",
      " 28  bodily_injuries              1000 non-null   int64         \n",
      " 29  witnesses                    1000 non-null   int64         \n",
      " 30  police_report_available      657 non-null    object        \n",
      " 31  total_claim_amount           1000 non-null   int64         \n",
      " 32  injury_claim                 1000 non-null   int64         \n",
      " 33  property_claim               1000 non-null   int64         \n",
      " 34  vehicle_claim                1000 non-null   int64         \n",
      " 35  auto_make                    1000 non-null   object        \n",
      " 36  auto_model                   1000 non-null   object        \n",
      " 37  auto_year                    1000 non-null   int64         \n",
      " 38  fraud_reported               1000 non-null   object        \n",
      "dtypes: datetime64[ns](2), float64(1), int64(17), object(19)\n",
      "memory usage: 304.8+ KB\n"
     ]
    }
   ],
   "source": [
    "# printing information about the dataset\n",
    "df.info()"
   ]
  },
  {
   "cell_type": "markdown",
   "id": "4fd79e96",
   "metadata": {},
   "source": [
    "### Visualizing the count of null values"
   ]
  },
  {
   "cell_type": "code",
   "execution_count": 11,
   "id": "908b90ac",
   "metadata": {},
   "outputs": [
    {
     "data": {
      "image/png": "[encoded data removed]",
      "text/plain": [
       "<Figure size 1000x600 with 1 Axes>"
      ]
     },
     "metadata": {},
     "output_type": "display_data"
    }
   ],
   "source": [
    "# finding all the null values in the dataset\n",
    "null_counts = df.isnull().sum()\n",
    "columns_with_null = null_counts[null_counts > 0]\n",
    "\n",
    "# Create a bar plot for columns with null values\n",
    "plt.figure(figsize=(10, 6))\n",
    "columns_with_null.plot(kind='bar', color='green', alpha=0.7)\n",
    "plt.title('Null Value Counts by Column')\n",
    "plt.xlabel('Columns')\n",
    "plt.ylabel('Null Value Count')\n",
    "plt.xticks(rotation=0)\n",
    "plt.show()\n"
   ]
  },
  {
   "cell_type": "markdown",
   "id": "94a0ceda",
   "metadata": {},
   "source": [
    "Only 3 columns have null values however dropping them will drastically reduce the number of rows, hence __another method__ has to be applied. "
   ]
  },
  {
   "cell_type": "code",
   "execution_count": 12,
   "id": "ca441ce9",
   "metadata": {},
   "outputs": [
    {
     "name": "stdout",
     "output_type": "stream",
     "text": [
      "Rear Collision     0.355231\n",
      "Side Collision     0.335766\n",
      "Front Collision    0.309002\n",
      "Name: collision_type, dtype: float64\n",
      "__________________________________________________\n",
      "NO     0.528125\n",
      "YES    0.471875\n",
      "Name: property_damage, dtype: float64\n",
      "__________________________________________________\n",
      "NO     0.52207\n",
      "YES    0.47793\n",
      "Name: police_report_available, dtype: float64\n",
      "__________________________________________________\n"
     ]
    }
   ],
   "source": [
    "# finding the distribution of distinct values in the columns with the null values\n",
    "for i in ['collision_type', 'property_damage', 'police_report_available']:\n",
    "    print(df[i].value_counts(1))\n",
    "    print(\"_\"*50)"
   ]
  },
  {
   "cell_type": "markdown",
   "id": "2d26ccb2",
   "metadata": {},
   "source": [
    "Since there are very close ratio between the values hence replacing them with just the mode will change the distribution. To maintain this distribution, we have to replace the values with each of the values in the same distribution format."
   ]
  },
  {
   "cell_type": "code",
   "execution_count": 13,
   "id": "56fb7c33",
   "metadata": {},
   "outputs": [],
   "source": [
    "# Ratios for the replacement values\n",
    "ratios = [0.355231, 0.335766, 0.309002]\n",
    "replacement_values = ['Rear Collision', 'Side Collision', 'Front Collision']  # Values corresponding to the ratios\n",
    "\n",
    "# Function to replace null values with ratio-based values\n",
    "def replace_null_with_ratios(value):\n",
    "    if pd.isnull(value):\n",
    "        return np.random.choice(replacement_values, p=[ratio/sum(ratios) for ratio in ratios])\n",
    "    return value\n",
    "\n",
    "# Apply the replacement function to each element in the DataFrame\n",
    "df['collision_type'] = df['collision_type'].apply(replace_null_with_ratios)"
   ]
  },
  {
   "cell_type": "code",
   "execution_count": 14,
   "id": "afdae9b5",
   "metadata": {},
   "outputs": [],
   "source": [
    "# Ratios for the replacement values\n",
    "ratios = [0.528125, 0.471875]\n",
    "replacement_values = ['NO', 'YES']  # Values corresponding to the ratios\n",
    "\n",
    "# Function to replace null values with ratio-based values\n",
    "def replace_null_with_ratios(value):\n",
    "    if pd.isnull(value):\n",
    "        return np.random.choice(replacement_values, p=[ratio/sum(ratios) for ratio in ratios])\n",
    "    return value\n",
    "\n",
    "# Apply the replacement function to each element in the DataFrame\n",
    "df['property_damage'] = df['property_damage'].apply(replace_null_with_ratios)"
   ]
  },
  {
   "cell_type": "code",
   "execution_count": 15,
   "id": "9bfe2b73",
   "metadata": {},
   "outputs": [],
   "source": [
    "# Ratios for the replacement values\n",
    "ratios = [0.52207, 0.47793]\n",
    "replacement_values = ['NO', 'YES']  # Values corresponding to the ratios\n",
    "\n",
    "# Function to replace null values with ratio-based values\n",
    "def replace_null_with_ratios(value):\n",
    "    if pd.isnull(value):\n",
    "        return np.random.choice(replacement_values, p=[ratio/sum(ratios) for ratio in ratios])\n",
    "    return value\n",
    "\n",
    "# Apply the replacement function to each element in the DataFrame\n",
    "df['police_report_available'] = df['police_report_available'].apply(replace_null_with_ratios)"
   ]
  },
  {
   "cell_type": "markdown",
   "id": "42e17a7e",
   "metadata": {},
   "source": [
    "__Note: The above code can be simplified using dictionaries, however this way gives a clear view of what is being done__"
   ]
  },
  {
   "cell_type": "code",
   "execution_count": 16,
   "id": "d52b717f",
   "metadata": {},
   "outputs": [
    {
     "name": "stdout",
     "output_type": "stream",
     "text": [
      "<class 'pandas.core.frame.DataFrame'>\n",
      "RangeIndex: 1000 entries, 0 to 999\n",
      "Data columns (total 39 columns):\n",
      " #   Column                       Non-Null Count  Dtype         \n",
      "---  ------                       --------------  -----         \n",
      " 0   months_as_customer           1000 non-null   int64         \n",
      " 1   age                          1000 non-null   int64         \n",
      " 2   policy_number                1000 non-null   int64         \n",
      " 3   policy_bind_date             1000 non-null   datetime64[ns]\n",
      " 4   policy_state                 1000 non-null   object        \n",
      " 5   policy_csl                   1000 non-null   object        \n",
      " 6   policy_deductable            1000 non-null   int64         \n",
      " 7   policy_annual_premium        1000 non-null   float64       \n",
      " 8   umbrella_limit               1000 non-null   int64         \n",
      " 9   insured_zip                  1000 non-null   int64         \n",
      " 10  insured_sex                  1000 non-null   object        \n",
      " 11  insured_education_level      1000 non-null   object        \n",
      " 12  insured_occupation           1000 non-null   object        \n",
      " 13  insured_hobbies              1000 non-null   object        \n",
      " 14  insured_relationship         1000 non-null   object        \n",
      " 15  capital-gains                1000 non-null   int64         \n",
      " 16  capital-loss                 1000 non-null   int64         \n",
      " 17  incident_date                1000 non-null   datetime64[ns]\n",
      " 18  incident_type                1000 non-null   object        \n",
      " 19  collision_type               1000 non-null   object        \n",
      " 20  incident_severity            1000 non-null   object        \n",
      " 21  authorities_contacted        1000 non-null   object        \n",
      " 22  incident_state               1000 non-null   object        \n",
      " 23  incident_city                1000 non-null   object        \n",
      " 24  incident_location            1000 non-null   object        \n",
      " 25  incident_hour_of_the_day     1000 non-null   int64         \n",
      " 26  number_of_vehicles_involved  1000 non-null   int64         \n",
      " 27  property_damage              1000 non-null   object        \n",
      " 28  bodily_injuries              1000 non-null   int64         \n",
      " 29  witnesses                    1000 non-null   int64         \n",
      " 30  police_report_available      1000 non-null   object        \n",
      " 31  total_claim_amount           1000 non-null   int64         \n",
      " 32  injury_claim                 1000 non-null   int64         \n",
      " 33  property_claim               1000 non-null   int64         \n",
      " 34  vehicle_claim                1000 non-null   int64         \n",
      " 35  auto_make                    1000 non-null   object        \n",
      " 36  auto_model                   1000 non-null   object        \n",
      " 37  auto_year                    1000 non-null   int64         \n",
      " 38  fraud_reported               1000 non-null   object        \n",
      "dtypes: datetime64[ns](2), float64(1), int64(17), object(19)\n",
      "memory usage: 304.8+ KB\n"
     ]
    }
   ],
   "source": [
    "# printing information about the dataset to check for null values\n",
    "df.info()"
   ]
  },
  {
   "cell_type": "markdown",
   "id": "232623a8",
   "metadata": {},
   "source": [
    "  "
   ]
  },
  {
   "cell_type": "markdown",
   "id": "51dd43d2",
   "metadata": {},
   "source": [
    "### Dropping features: Policy Number, Bind date, Incident date, Auto make, Incident Location, Incident City\n",
    "These columns contain no valuable information. An argument can be made that the Incident Location and City can contain some information. Although this can be true, encoding them will drastically increase the size of the data and also the model will predict inaccurate results when the location and city of a new incident is not included in the data used to train the model"
   ]
  },
  {
   "cell_type": "code",
   "execution_count": 17,
   "id": "af2f5460",
   "metadata": {},
   "outputs": [],
   "source": [
    "df.drop(['policy_number', 'policy_bind_date', 'incident_date', \n",
    "        'auto_make', 'incident_location', 'incident_city'], \n",
    "        axis = 1, inplace = True)"
   ]
  },
  {
   "cell_type": "markdown",
   "id": "80ced7bc",
   "metadata": {},
   "source": [
    "## Section 3: Feature Engineering"
   ]
  },
  {
   "cell_type": "markdown",
   "id": "872589a3",
   "metadata": {},
   "source": [
    "This section deals with transforming the features of the data to suit the task at hand. This section involved:\n",
    "1. Standardizing the numerical columns\n",
    "2. Encoding the categorical columns\n",
    "3. Upsampling to ensure the different classes of the target variable have the same count.\n",
    "\n"
   ]
  },
  {
   "cell_type": "markdown",
   "id": "972f6da8",
   "metadata": {},
   "source": [
    "### Splitting the data into train and test set\n",
    "\n",
    "Before beginning these processes, the data is split into train and test set to prevent data leakage. The data predictors are first assigned to x_data and the target variable is assigned to y_data. These two datasets are then split using the sklearn's __train_test_split__ using a test_size of _33%_. \n",
    "\n",
    "This will randomly assign _33%_ of the values to the __testset__ and _67%_ of the values to the __trainset__."
   ]
  },
  {
   "cell_type": "code",
   "execution_count": 18,
   "id": "c227acb3",
   "metadata": {},
   "outputs": [],
   "source": [
    "# splitting the trainset into dependent and independent sets. The Churn column is the value to be predicted\n",
    "x_data = df.drop('fraud_reported', axis=1)\n",
    "y_data = df['fraud_reported']"
   ]
  },
  {
   "cell_type": "code",
   "execution_count": 19,
   "id": "b634ebc7",
   "metadata": {},
   "outputs": [
    {
     "name": "stdout",
     "output_type": "stream",
     "text": [
      "X train dataset has a size: (670, 32)\n",
      "Y train dataset has a size: (670,)\n",
      "X test dataset has a size: (330, 32)\n",
      "Y test dataset has a size: (330,)\n"
     ]
    }
   ],
   "source": [
    "# splitting the trainset into a training set and a testing set.\n",
    "x_train, x_test, y_train, y_test = train_test_split(x_data, y_data, test_size=0.33, random_state=4)\n",
    "\n",
    "# printing the shapes of the train and test data\n",
    "print(\"X train dataset has a size:\", x_train.shape)\n",
    "print(\"Y train dataset has a size:\", y_train.shape)\n",
    "print(\"X test dataset has a size:\", x_test.shape)\n",
    "print(\"Y test dataset has a size:\", y_test.shape)"
   ]
  },
  {
   "cell_type": "code",
   "execution_count": 20,
   "id": "061a0e8e",
   "metadata": {},
   "outputs": [
    {
     "name": "stdout",
     "output_type": "stream",
     "text": [
      "Value count of classes of the target variable:\n",
      " N    509\n",
      "Y    161\n",
      "Name: fraud_reported, dtype: int64\n"
     ]
    }
   ],
   "source": [
    "# checking the number of distinct classes in the target variable\n",
    "print(\"Value count of classes of the target variable:\\n\", y_train.value_counts())"
   ]
  },
  {
   "cell_type": "markdown",
   "id": "096af5e7",
   "metadata": {},
   "source": [
    "The target varaible contains an imbalanced number of classes"
   ]
  },
  {
   "cell_type": "code",
   "execution_count": null,
   "id": "02e9a8fc",
   "metadata": {},
   "outputs": [],
   "source": []
  },
  {
   "cell_type": "markdown",
   "id": "d57d1794",
   "metadata": {},
   "source": [
    "### Standardizing and Encoding using ColumnTransformer\n",
    "\n",
    "Column Transformer provides a comprehensive and simple appraoch to standardize and encode data.\n",
    "\n",
    "In using the column transformer, we have to specify the method for both encoding categorical data and standardizing numerical data. Different method have to be tested to find the ones that produce the best evaluation values. The StandardScaler and OneHotEncoder showed a higher accuracy than other stardization and encoding methods. \n",
    "\n",
    "In this column transformer, the StandardScaler is used to scale the numeric data and the OneHotEncoder is using to encode categorical data. handle_unkown is set to ignore to enable the transformer ignore any class that was not in the dataset used in the fitting of the transformer. "
   ]
  },
  {
   "cell_type": "code",
   "execution_count": 21,
   "id": "748bf5a2",
   "metadata": {},
   "outputs": [],
   "source": [
    "# The scalers, encoders and the columns to scale and encode are passed as parameters into the column transformer \n",
    "\n",
    "# creating a column transformer object\n",
    "transformer = ColumnTransformer([\n",
    "    ('scale', StandardScaler(with_mean=False), ['months_as_customer', 'age', 'policy_deductable',\n",
    "                                                   'policy_annual_premium', 'umbrella_limit', 'insured_zip',\n",
    "                                                   'capital-gains', 'capital-loss', 'incident_hour_of_the_day',\n",
    "                                                   'number_of_vehicles_involved', 'bodily_injuries', 'witnesses',\n",
    "                                                   'total_claim_amount', 'injury_claim', 'property_claim', 'vehicle_claim',\n",
    "                                                   'auto_year']),\n",
    "    ('onehot', OneHotEncoder(handle_unknown = 'ignore'), ['policy_state', 'policy_csl', 'insured_sex', 'insured_education_level',\n",
    "                                                   'insured_occupation', 'insured_hobbies', 'insured_relationship',\n",
    "                                                   'incident_type', 'collision_type', 'incident_severity',\n",
    "                                                   'authorities_contacted', 'incident_state',\n",
    "                                                    'property_damage', 'police_report_available', 'auto_model'])\n",
    "                                                ])"
   ]
  },
  {
   "cell_type": "code",
   "execution_count": 22,
   "id": "674b0584",
   "metadata": {},
   "outputs": [
    {
     "data": {
      "text/html": [
       "<style>#sk-container-id-1 {color: black;background-color: white;}#sk-container-id-1 pre{padding: 0;}#sk-container-id-1 div.sk-toggleable {background-color: white;}#sk-container-id-1 label.sk-toggleable__label {cursor: pointer;display: block;width: 100%;margin-bottom: 0;padding: 0.3em;box-sizing: border-box;text-align: center;}#sk-container-id-1 label.sk-toggleable__label-arrow:before {content: \"▸\";float: left;margin-right: 0.25em;color: #696969;}#sk-container-id-1 label.sk-toggleable__label-arrow:hover:before {color: black;}#sk-container-id-1 div.sk-estimator:hover label.sk-toggleable__label-arrow:before {color: black;}#sk-container-id-1 div.sk-toggleable__content {max-height: 0;max-width: 0;overflow: hidden;text-align: left;background-color: #f0f8ff;}#sk-container-id-1 div.sk-toggleable__content pre {margin: 0.2em;color: black;border-radius: 0.25em;background-color: #f0f8ff;}#sk-container-id-1 input.sk-toggleable__control:checked~div.sk-toggleable__content {max-height: 200px;max-width: 100%;overflow: auto;}#sk-container-id-1 input.sk-toggleable__control:checked~label.sk-toggleable__label-arrow:before {content: \"▾\";}#sk-container-id-1 div.sk-estimator input.sk-toggleable__control:checked~label.sk-toggleable__label {background-color: #d4ebff;}#sk-container-id-1 div.sk-label input.sk-toggleable__control:checked~label.sk-toggleable__label {background-color: #d4ebff;}#sk-container-id-1 input.sk-hidden--visually {border: 0;clip: rect(1px 1px 1px 1px);clip: rect(1px, 1px, 1px, 1px);height: 1px;margin: -1px;overflow: hidden;padding: 0;position: absolute;width: 1px;}#sk-container-id-1 div.sk-estimator {font-family: monospace;background-color: #f0f8ff;border: 1px dotted black;border-radius: 0.25em;box-sizing: border-box;margin-bottom: 0.5em;}#sk-container-id-1 div.sk-estimator:hover {background-color: #d4ebff;}#sk-container-id-1 div.sk-parallel-item::after {content: \"\";width: 100%;border-bottom: 1px solid gray;flex-grow: 1;}#sk-container-id-1 div.sk-label:hover label.sk-toggleable__label {background-color: #d4ebff;}#sk-container-id-1 div.sk-serial::before {content: \"\";position: absolute;border-left: 1px solid gray;box-sizing: border-box;top: 0;bottom: 0;left: 50%;z-index: 0;}#sk-container-id-1 div.sk-serial {display: flex;flex-direction: column;align-items: center;background-color: white;padding-right: 0.2em;padding-left: 0.2em;position: relative;}#sk-container-id-1 div.sk-item {position: relative;z-index: 1;}#sk-container-id-1 div.sk-parallel {display: flex;align-items: stretch;justify-content: center;background-color: white;position: relative;}#sk-container-id-1 div.sk-item::before, #sk-container-id-1 div.sk-parallel-item::before {content: \"\";position: absolute;border-left: 1px solid gray;box-sizing: border-box;top: 0;bottom: 0;left: 50%;z-index: -1;}#sk-container-id-1 div.sk-parallel-item {display: flex;flex-direction: column;z-index: 1;position: relative;background-color: white;}#sk-container-id-1 div.sk-parallel-item:first-child::after {align-self: flex-end;width: 50%;}#sk-container-id-1 div.sk-parallel-item:last-child::after {align-self: flex-start;width: 50%;}#sk-container-id-1 div.sk-parallel-item:only-child::after {width: 0;}#sk-container-id-1 div.sk-dashed-wrapped {border: 1px dashed gray;margin: 0 0.4em 0.5em 0.4em;box-sizing: border-box;padding-bottom: 0.4em;background-color: white;}#sk-container-id-1 div.sk-label label {font-family: monospace;font-weight: bold;display: inline-block;line-height: 1.2em;}#sk-container-id-1 div.sk-label-container {text-align: center;}#sk-container-id-1 div.sk-container {/* jupyter's `normalize.less` sets `[hidden] { display: none; }` but bootstrap.min.css set `[hidden] { display: none !important; }` so we also need the `!important` here to be able to override the default hidden behavior on the sphinx rendered scikit-learn.org. See: https://github.com/scikit-learn/scikit-learn/issues/21755 */display: inline-block !important;position: relative;}#sk-container-id-1 div.sk-text-repr-fallback {display: none;}</style><div id=\"sk-container-id-1\" class=\"sk-top-container\"><div class=\"sk-text-repr-fallback\"><pre>ColumnTransformer(transformers=[(&#x27;scale&#x27;, StandardScaler(with_mean=False),\n",
       "                                 [&#x27;months_as_customer&#x27;, &#x27;age&#x27;,\n",
       "                                  &#x27;policy_deductable&#x27;, &#x27;policy_annual_premium&#x27;,\n",
       "                                  &#x27;umbrella_limit&#x27;, &#x27;insured_zip&#x27;,\n",
       "                                  &#x27;capital-gains&#x27;, &#x27;capital-loss&#x27;,\n",
       "                                  &#x27;incident_hour_of_the_day&#x27;,\n",
       "                                  &#x27;number_of_vehicles_involved&#x27;,\n",
       "                                  &#x27;bodily_injuries&#x27;, &#x27;witnesses&#x27;,\n",
       "                                  &#x27;total_claim_amount&#x27;, &#x27;injury_claim&#x27;,\n",
       "                                  &#x27;property_claim&#x27;, &#x27;ve...&#x27;,\n",
       "                                  &#x27;auto_year&#x27;]),\n",
       "                                (&#x27;onehot&#x27;,\n",
       "                                 OneHotEncoder(handle_unknown=&#x27;ignore&#x27;),\n",
       "                                 [&#x27;policy_state&#x27;, &#x27;policy_csl&#x27;, &#x27;insured_sex&#x27;,\n",
       "                                  &#x27;insured_education_level&#x27;,\n",
       "                                  &#x27;insured_occupation&#x27;, &#x27;insured_hobbies&#x27;,\n",
       "                                  &#x27;insured_relationship&#x27;, &#x27;incident_type&#x27;,\n",
       "                                  &#x27;collision_type&#x27;, &#x27;incident_severity&#x27;,\n",
       "                                  &#x27;authorities_contacted&#x27;, &#x27;incident_state&#x27;,\n",
       "                                  &#x27;property_damage&#x27;, &#x27;police_report_available&#x27;,\n",
       "                                  &#x27;auto_model&#x27;])])</pre><b>In a Jupyter environment, please rerun this cell to show the HTML representation or trust the notebook. <br />On GitHub, the HTML representation is unable to render, please try loading this page with nbviewer.org.</b></div><div class=\"sk-container\" hidden><div class=\"sk-item sk-dashed-wrapped\"><div class=\"sk-label-container\"><div class=\"sk-label sk-toggleable\"><input class=\"sk-toggleable__control sk-hidden--visually\" id=\"sk-estimator-id-1\" type=\"checkbox\" ><label for=\"sk-estimator-id-1\" class=\"sk-toggleable__label sk-toggleable__label-arrow\">ColumnTransformer</label><div class=\"sk-toggleable__content\"><pre>ColumnTransformer(transformers=[(&#x27;scale&#x27;, StandardScaler(with_mean=False),\n",
       "                                 [&#x27;months_as_customer&#x27;, &#x27;age&#x27;,\n",
       "                                  &#x27;policy_deductable&#x27;, &#x27;policy_annual_premium&#x27;,\n",
       "                                  &#x27;umbrella_limit&#x27;, &#x27;insured_zip&#x27;,\n",
       "                                  &#x27;capital-gains&#x27;, &#x27;capital-loss&#x27;,\n",
       "                                  &#x27;incident_hour_of_the_day&#x27;,\n",
       "                                  &#x27;number_of_vehicles_involved&#x27;,\n",
       "                                  &#x27;bodily_injuries&#x27;, &#x27;witnesses&#x27;,\n",
       "                                  &#x27;total_claim_amount&#x27;, &#x27;injury_claim&#x27;,\n",
       "                                  &#x27;property_claim&#x27;, &#x27;ve...&#x27;,\n",
       "                                  &#x27;auto_year&#x27;]),\n",
       "                                (&#x27;onehot&#x27;,\n",
       "                                 OneHotEncoder(handle_unknown=&#x27;ignore&#x27;),\n",
       "                                 [&#x27;policy_state&#x27;, &#x27;policy_csl&#x27;, &#x27;insured_sex&#x27;,\n",
       "                                  &#x27;insured_education_level&#x27;,\n",
       "                                  &#x27;insured_occupation&#x27;, &#x27;insured_hobbies&#x27;,\n",
       "                                  &#x27;insured_relationship&#x27;, &#x27;incident_type&#x27;,\n",
       "                                  &#x27;collision_type&#x27;, &#x27;incident_severity&#x27;,\n",
       "                                  &#x27;authorities_contacted&#x27;, &#x27;incident_state&#x27;,\n",
       "                                  &#x27;property_damage&#x27;, &#x27;police_report_available&#x27;,\n",
       "                                  &#x27;auto_model&#x27;])])</pre></div></div></div><div class=\"sk-parallel\"><div class=\"sk-parallel-item\"><div class=\"sk-item\"><div class=\"sk-label-container\"><div class=\"sk-label sk-toggleable\"><input class=\"sk-toggleable__control sk-hidden--visually\" id=\"sk-estimator-id-2\" type=\"checkbox\" ><label for=\"sk-estimator-id-2\" class=\"sk-toggleable__label sk-toggleable__label-arrow\">scale</label><div class=\"sk-toggleable__content\"><pre>[&#x27;months_as_customer&#x27;, &#x27;age&#x27;, &#x27;policy_deductable&#x27;, &#x27;policy_annual_premium&#x27;, &#x27;umbrella_limit&#x27;, &#x27;insured_zip&#x27;, &#x27;capital-gains&#x27;, &#x27;capital-loss&#x27;, &#x27;incident_hour_of_the_day&#x27;, &#x27;number_of_vehicles_involved&#x27;, &#x27;bodily_injuries&#x27;, &#x27;witnesses&#x27;, &#x27;total_claim_amount&#x27;, &#x27;injury_claim&#x27;, &#x27;property_claim&#x27;, &#x27;vehicle_claim&#x27;, &#x27;auto_year&#x27;]</pre></div></div></div><div class=\"sk-serial\"><div class=\"sk-item\"><div class=\"sk-estimator sk-toggleable\"><input class=\"sk-toggleable__control sk-hidden--visually\" id=\"sk-estimator-id-3\" type=\"checkbox\" ><label for=\"sk-estimator-id-3\" class=\"sk-toggleable__label sk-toggleable__label-arrow\">StandardScaler</label><div class=\"sk-toggleable__content\"><pre>StandardScaler(with_mean=False)</pre></div></div></div></div></div></div><div class=\"sk-parallel-item\"><div class=\"sk-item\"><div class=\"sk-label-container\"><div class=\"sk-label sk-toggleable\"><input class=\"sk-toggleable__control sk-hidden--visually\" id=\"sk-estimator-id-4\" type=\"checkbox\" ><label for=\"sk-estimator-id-4\" class=\"sk-toggleable__label sk-toggleable__label-arrow\">onehot</label><div class=\"sk-toggleable__content\"><pre>[&#x27;policy_state&#x27;, &#x27;policy_csl&#x27;, &#x27;insured_sex&#x27;, &#x27;insured_education_level&#x27;, &#x27;insured_occupation&#x27;, &#x27;insured_hobbies&#x27;, &#x27;insured_relationship&#x27;, &#x27;incident_type&#x27;, &#x27;collision_type&#x27;, &#x27;incident_severity&#x27;, &#x27;authorities_contacted&#x27;, &#x27;incident_state&#x27;, &#x27;property_damage&#x27;, &#x27;police_report_available&#x27;, &#x27;auto_model&#x27;]</pre></div></div></div><div class=\"sk-serial\"><div class=\"sk-item\"><div class=\"sk-estimator sk-toggleable\"><input class=\"sk-toggleable__control sk-hidden--visually\" id=\"sk-estimator-id-5\" type=\"checkbox\" ><label for=\"sk-estimator-id-5\" class=\"sk-toggleable__label sk-toggleable__label-arrow\">OneHotEncoder</label><div class=\"sk-toggleable__content\"><pre>OneHotEncoder(handle_unknown=&#x27;ignore&#x27;)</pre></div></div></div></div></div></div></div></div></div></div>"
      ],
      "text/plain": [
       "ColumnTransformer(transformers=[('scale', StandardScaler(with_mean=False),\n",
       "                                 ['months_as_customer', 'age',\n",
       "                                  'policy_deductable', 'policy_annual_premium',\n",
       "                                  'umbrella_limit', 'insured_zip',\n",
       "                                  'capital-gains', 'capital-loss',\n",
       "                                  'incident_hour_of_the_day',\n",
       "                                  'number_of_vehicles_involved',\n",
       "                                  'bodily_injuries', 'witnesses',\n",
       "                                  'total_claim_amount', 'injury_claim',\n",
       "                                  'property_claim', 've...',\n",
       "                                  'auto_year']),\n",
       "                                ('onehot',\n",
       "                                 OneHotEncoder(handle_unknown='ignore'),\n",
       "                                 ['policy_state', 'policy_csl', 'insured_sex',\n",
       "                                  'insured_education_level',\n",
       "                                  'insured_occupation', 'insured_hobbies',\n",
       "                                  'insured_relationship', 'incident_type',\n",
       "                                  'collision_type', 'incident_severity',\n",
       "                                  'authorities_contacted', 'incident_state',\n",
       "                                  'property_damage', 'police_report_available',\n",
       "                                  'auto_model'])])"
      ]
     },
     "execution_count": 22,
     "metadata": {},
     "output_type": "execute_result"
    }
   ],
   "source": [
    "# fitting the transformer on the train set\n",
    "transformer.fit(x_train)"
   ]
  },
  {
   "cell_type": "code",
   "execution_count": 23,
   "id": "4a4c68a3",
   "metadata": {},
   "outputs": [],
   "source": [
    "# transforming both the train and test set\n",
    "x_train = transformer.transform(x_train)\n",
    "x_test = transformer.transform(x_test)"
   ]
  },
  {
   "cell_type": "code",
   "execution_count": 24,
   "id": "ddc9e4a2",
   "metadata": {},
   "outputs": [
    {
     "name": "stdout",
     "output_type": "stream",
     "text": [
      "X train dataset has a size after transforming:  (670, 138)\n",
      "X test dataset has a size after transforming:  (330, 138)\n"
     ]
    }
   ],
   "source": [
    "# printing the shape of the data\n",
    "print(\"X train dataset has a size after transforming: \",x_train.shape)\n",
    "print(\"X test dataset has a size after transforming: \",x_test.shape)"
   ]
  },
  {
   "cell_type": "markdown",
   "id": "b80c1bd1",
   "metadata": {},
   "source": [
    "## Handling Imbalanced Data\n",
    "\n",
    "Imbalanced data occurs when the distribution of classes is uneven. The class with the highest count in the target class is termed the majority class and the other class or classes are termed the minority class.\n",
    "Imbalanced data can cause machine learning models to have lower accuracy, as they may be biased towards the majority class and fail to properly classify the minority class."
   ]
  },
  {
   "cell_type": "markdown",
   "id": "ad33cf64",
   "metadata": {},
   "source": [
    "### Using the Synthetic Minority Over-sampling Technique (SMOTE) to handle the imbalanced dataset\n",
    "\n",
    "The SMOTE technique creates synthetic data of the minority class to balance the majority class. \n",
    "\n",
    "__NOTE__: Introducing synthetic data also introducing some sort of bias into the dataset that will be used to train the model.\n",
    "\n",
    "Correcting an imbalance in the count of the classes of the target variable prevents the model from learning too much form the majority class and assume that it has a higher significance, and being baised towards the class with a few values. \n"
   ]
  },
  {
   "cell_type": "code",
   "execution_count": 25,
   "id": "3a4dcab6",
   "metadata": {},
   "outputs": [
    {
     "name": "stdout",
     "output_type": "stream",
     "text": [
      "Value count of classes of the target variable\n",
      " N    509\n",
      "Y    161\n",
      "Name: fraud_reported, dtype: int64\n"
     ]
    }
   ],
   "source": [
    "# checking the counts of classes of the target variable\n",
    "print(\"Value count of classes of the target variable\\n\", y_train.value_counts())"
   ]
  },
  {
   "cell_type": "markdown",
   "id": "914fa6ef",
   "metadata": {},
   "source": [
    "Looking at the Class attribute which is the target variable, there is an imbalance in the 2 classes. Creating a model with this imbalance is going to give more precedence to the No class and the least to the Yes class.\n",
    "\n",
    "To correct this, the SMOTE technique is used to upsample the dataset.\n",
    "\n",
    "__Note__: Training the model without balancing the target variable classes only marginally improved the accuracy of the different models."
   ]
  },
  {
   "cell_type": "code",
   "execution_count": 26,
   "id": "71038193",
   "metadata": {},
   "outputs": [],
   "source": [
    "# creating the SMOTE instance where the five closest neighbors to a point are used to generate a new point\n",
    "smote = SMOTE(sampling_strategy='auto', k_neighbors=5)\n",
    "\n",
    "# fitting and resampling the dataset to create new synthetic datapoints\n",
    "x_train, y_train = smote.fit_resample(x_train, y_train)"
   ]
  },
  {
   "cell_type": "code",
   "execution_count": 27,
   "id": "c7621f00",
   "metadata": {},
   "outputs": [
    {
     "name": "stdout",
     "output_type": "stream",
     "text": [
      "X train dataset has a size after upsampling:  (1018, 138)\n",
      "Y train dataset has a size after upsampling:  (1018,)\n"
     ]
    }
   ],
   "source": [
    "# printing the shape of the new train data\n",
    "print(\"X train dataset has a size after upsampling: \",x_train.shape)\n",
    "print(\"Y train dataset has a size after upsampling: \",y_train.shape)"
   ]
  },
  {
   "cell_type": "code",
   "execution_count": 28,
   "id": "d01c28a5",
   "metadata": {},
   "outputs": [
    {
     "name": "stdout",
     "output_type": "stream",
     "text": [
      "Value count of classes of the target variable\n",
      " Y    509\n",
      "N    509\n",
      "Name: fraud_reported, dtype: int64\n"
     ]
    }
   ],
   "source": [
    "# checkinig the counts of the classes of the target variable\n",
    "print(\"Value count of classes of the target variable\\n\", y_train.value_counts())"
   ]
  },
  {
   "cell_type": "markdown",
   "id": "df545263",
   "metadata": {},
   "source": [
    "### Encoding the target variables\n",
    "Most machine learning models cannot deal with text data as target variable, hence the target column has to be converted into numerical values"
   ]
  },
  {
   "cell_type": "code",
   "execution_count": 29,
   "id": "c1dcce42",
   "metadata": {},
   "outputs": [],
   "source": [
    "# creating a label encoder object\n",
    "label_encoder = LabelEncoder()\n",
    "\n",
    "# fitting the label encoder on the train data\n",
    "label_encoder.fit(y_train)\n",
    "\n",
    "# transforming the train and test data\n",
    "y_train = label_encoder.transform(y_train)\n",
    "y_test = label_encoder.transform(y_test)"
   ]
  },
  {
   "cell_type": "markdown",
   "id": "b76d1c7e",
   "metadata": {},
   "source": [
    "   "
   ]
  },
  {
   "cell_type": "markdown",
   "id": "859589f8",
   "metadata": {},
   "source": [
    "## Section 4: Model Building and Testing\n",
    "\n",
    "This session involves creating models and checking the accuracies of the model to make predictions. In this section, the hyperparameters of five models will be tuned to give the best accuracy and the model with the highest accuracy will be finally used to make prediction.\n",
    "\n"
   ]
  },
  {
   "cell_type": "code",
   "execution_count": 30,
   "id": "723932b1",
   "metadata": {},
   "outputs": [
    {
     "name": "stdout",
     "output_type": "stream",
     "text": [
      "X train dataset has a size: (1018, 138)\n",
      "Y train dataset has a size: (1018,)\n",
      "X test dataset has a size: (330, 138)\n",
      "Y test dataset has a size: (330,)\n"
     ]
    }
   ],
   "source": [
    "# printing the shape of the train and test data\n",
    "print(\"X train dataset has a size:\", x_train.shape)\n",
    "print(\"Y train dataset has a size:\", y_train.shape)\n",
    "print(\"X test dataset has a size:\", x_test.shape)\n",
    "print(\"Y test dataset has a size:\", y_test.shape)"
   ]
  },
  {
   "cell_type": "markdown",
   "id": "6c485be1",
   "metadata": {},
   "source": [
    "Since this tasks requires customers to be classified as whether the left or not, it is a __Classification__ problem and since the data used to train the model has a labeled target variable __Supervised Classification__ models will be developed and tuned. The supervised classification models considered are \n",
    "1. XGBoost Classifier\n",
    "2. Decision Tree Classifier\n",
    "2. Random Forest Classifier\n",
    "3. Support Vector Machines\n",
    "4. K Neighbors Classifier.\n",
    "\n",
    "Some selcted hyperparameters of these models will be tuned and their accuracies will be measured using Grid Search. A cross validation value (cv) of 5 will be set in order to split the train data into 5 parts and at each iteration 4 parts will be used to train the model and 1 part will be used to test the model for its accuracy. "
   ]
  },
  {
   "cell_type": "markdown",
   "id": "06673fb0",
   "metadata": {},
   "source": [
    "### Performing Hyperparameter Tuning using Grid Search\n",
    "\n",
    "Hyperparameter tuning allows for different hyperparameters to be trained and evaluated at the same time. Accuracy is used as an evaluation metric for the tuning process."
   ]
  },
  {
   "cell_type": "markdown",
   "id": "21a6ca1f",
   "metadata": {},
   "source": [
    "### Tuning the hyperparameters of a XGBoost Classifier\n",
    "\n",
    "Default values of the hyperparameters of the Xgboost Classifier that will be tuned are: \n",
    "booster = 'gbtree', max_depth = 6, max_bin = 256, max_leaf = 0"
   ]
  },
  {
   "cell_type": "code",
   "execution_count": 31,
   "id": "cc80013e",
   "metadata": {},
   "outputs": [
    {
     "name": "stdout",
     "output_type": "stream",
     "text": [
      "Accurary of best XGBoost classifier = 87.74%\n",
      "Best hyperparameter for the model = {'max_bin': 250, 'max_depth': 6, 'max_leaves': 2}\n"
     ]
    }
   ],
   "source": [
    "# specifying the parameters\n",
    "parameters = {'max_depth':range(1, 10), \n",
    "              'max_bin':range(250, 270, 2), \n",
    "              'max_leaves':range(2, 10)}\n",
    "\n",
    "# creating the grid search model and setting the number of cross validations to 5\n",
    "model_1 = GridSearchCV(XGBClassifier(), parameters, scoring='accuracy', cv=5, n_jobs=-1)\n",
    "\n",
    "# training the model\n",
    "model_1.fit(x_train, y_train)\n",
    "\n",
    "# Checking accurary of the model and the best hyperparameters\n",
    "print(\"Accurary of best XGBoost classifier = {:.2f}%\".format(model_1.best_score_*100))\n",
    "print(\"Best hyperparameter for the model = {}\".format(model_1.best_params_))\n"
   ]
  },
  {
   "cell_type": "markdown",
   "id": "047aceef",
   "metadata": {},
   "source": [
    "### Tuning the hyperparameters of a Decision Tree Classifier\n",
    "\n",
    "Default values of the hyperparameters of the Decision Tree Classifier  that will be tuned are: \n",
    "criterion = 'gini', max_depth = None, min_samples_split = 2, max_leaf_nodes = none"
   ]
  },
  {
   "cell_type": "code",
   "execution_count": 32,
   "id": "87e5b04a",
   "metadata": {},
   "outputs": [
    {
     "name": "stdout",
     "output_type": "stream",
     "text": [
      "Accurary of best decision tree classifier = 88.90%\n",
      "Best hyperparameter for the model = {'criterion': 'gini', 'max_depth': 3, 'max_leaf_nodes': 4, 'min_samples_split': 2}\n"
     ]
    }
   ],
   "source": [
    "# specifying the parameters\n",
    "parameters = {\"criterion\": (\"gini\", \"entropy\"), \n",
    "              'max_depth':range(1, 10), \n",
    "              'min_samples_split':range(2, 10), \n",
    "              'max_leaf_nodes':range(2, 10)}\n",
    "\n",
    "# creating the grid search model and setting the number of cross validations to 5\n",
    "model_2 = GridSearchCV(DecisionTreeClassifier(), parameters, scoring='accuracy', cv=5, n_jobs=-1)\n",
    "\n",
    "# training the model\n",
    "model_2.fit(x_train, y_train)\n",
    "\n",
    "# Checking accurary of the model and the best hyperparameters\n",
    "print(\"Accurary of best decision tree classifier = {:.2f}%\".format(model_2.best_score_*100))\n",
    "print(\"Best hyperparameter for the model = {}\".format(model_2.best_params_))\n"
   ]
  },
  {
   "cell_type": "markdown",
   "id": "4cde77cc",
   "metadata": {},
   "source": [
    "### Tuning the hyperparameters of a Random Forest Classifier\n",
    "\n",
    "Default values of the hyperparameters a Random Forest Classifier that will be tuned are:\n",
    "n_estimators=100, criterion = 'gini' , max_depth = None"
   ]
  },
  {
   "cell_type": "code",
   "execution_count": 33,
   "id": "8ce56ed8",
   "metadata": {},
   "outputs": [
    {
     "name": "stdout",
     "output_type": "stream",
     "text": [
      "Accurary of best random forest classifier = 88.72%\n",
      "Best hyperparameter for the model = {'criterion': 'entropy', 'max_depth': 20, 'n_estimators': 100}\n"
     ]
    }
   ],
   "source": [
    "# defining the hyperparameters\n",
    "param_grid = {\"n_estimators\":[100, 200, 300, 400, 500], \n",
    "              \"criterion\":['gini', 'entropy'], \n",
    "              \"max_depth\":range(20, 30, 5)}\n",
    "\n",
    "# creating the grid search model and setting the number of cross validations to 5\n",
    "model_3 = GridSearchCV(RandomForestClassifier(), param_grid, scoring='accuracy', cv=5, n_jobs=-1)\n",
    "\n",
    "# training the model\n",
    "model_3.fit(x_train, y_train)\n",
    "\n",
    "# Checking accurary of the model and the best hyperparameters\n",
    "print(\"Accurary of best random forest classifier = {:.2f}%\".format(model_3.best_score_*100))\n",
    "print(\"Best hyperparameter for the model = {}\".format(model_3.best_params_))"
   ]
  },
  {
   "cell_type": "markdown",
   "id": "23fb69d1",
   "metadata": {},
   "source": [
    "### Tuning the hyperparameters of a Support Vector Machine\n",
    "\n",
    "Default values of the hyperparameters a Support Vector Machine that will be tuned are:\n",
    "kernel = 'rbf', C = 1.0, degree = 3"
   ]
  },
  {
   "cell_type": "code",
   "execution_count": 34,
   "id": "2b7bd62f",
   "metadata": {},
   "outputs": [
    {
     "name": "stdout",
     "output_type": "stream",
     "text": [
      "Accurary of best logistic regression model = 88.02%\n",
      "Best hyperparameter for the model = {'C': 1, 'degree': 1, 'kernel': 'linear'}\n"
     ]
    }
   ],
   "source": [
    "# specifying the hyperparameters\n",
    "param_grid = {'kernel' : ('linear', 'poly', 'rbf', 'sigmoid'),\n",
    "              'C':range(1,5),\n",
    "              'degree':range(1, 5)}\n",
    "\n",
    "# creating the grid search model and setting the number of cross validations to 5\n",
    "model_4 = GridSearchCV(SVC(), param_grid, scoring='accuracy', cv=5, n_jobs=-1)\n",
    "\n",
    "# training the model\n",
    "model_4.fit(x_train, y_train)\n",
    "\n",
    "# Checking accurary of the model and the best hyperparameters\n",
    "print(\"Accurary of best logistic regression model = {:.2f}%\".format(model_4.best_score_*100))\n",
    "print(\"Best hyperparameter for the model = {}\".format(model_4.best_params_))"
   ]
  },
  {
   "cell_type": "markdown",
   "id": "beb1c243",
   "metadata": {},
   "source": [
    "### Tuning the hyperparameters of a K Neighbors Classifier\n",
    "\n",
    "Default values of the hyperparameters a K Neighbors Classifier that will be tuned are: n_neighbors = 5, weights = 'uniform, algorithm = 'auto'\n"
   ]
  },
  {
   "cell_type": "code",
   "execution_count": 35,
   "id": "336f7599",
   "metadata": {
    "scrolled": true
   },
   "outputs": [
    {
     "name": "stdout",
     "output_type": "stream",
     "text": [
      "Accurary of best Light Gradient Boosting model = 71.71%\n",
      "Best hyperparameter for the model = {'algorithm': 'auto', 'n_neighbors': 2, 'weights': 'uniform'}\n"
     ]
    }
   ],
   "source": [
    "# defining the hyperparameters\n",
    "params = {\"n_neighbors\":range(1, 5), \n",
    "          \"weights\":['uniform', 'distance'], \n",
    "          \"algorithm\":['auto', 'ball_tree', 'kd_tree','brute']}\n",
    "\n",
    "# creating the grid search model and setting the number of cross validations to 5\n",
    "model_5 = GridSearchCV(KNeighborsClassifier(), params, scoring='accuracy', cv=5, n_jobs=-1)\n",
    "\n",
    "# training the model\n",
    "model_5.fit(x_train, y_train)\n",
    "\n",
    "# Checking accurary of the model and the best hyperparameters\n",
    "print(\"Accurary of best Light Gradient Boosting model = {:.2f}%\".format(model_5.best_score_*100))\n",
    "print(\"Best hyperparameter for the model = {}\".format(model_5.best_params_))"
   ]
  },
  {
   "cell_type": "markdown",
   "id": "aac26fdf",
   "metadata": {},
   "source": [
    "## Testing The Best Model\n",
    "In this section the best model trained is used and evaluated on the trainset. The Accuracy, Precision, Recall, F1 Score and the Confusion Matrix are printed out for the evaluation of the model."
   ]
  },
  {
   "cell_type": "markdown",
   "id": "49777731",
   "metadata": {},
   "source": [
    "The best model trained in the hyperparmeter tuning section was the __Decision Tree Classifier__ (model_2). This model is used to predict values of the test set and evaluate its performance."
   ]
  },
  {
   "cell_type": "code",
   "execution_count": 36,
   "id": "0053fafc",
   "metadata": {
    "scrolled": true
   },
   "outputs": [
    {
     "name": "stdout",
     "output_type": "stream",
     "text": [
      "Accuracy =  0.8666666666666667\n",
      "Precision =  [0.96296296 0.68421053]\n",
      "Recall =  [0.85245902 0.90697674]\n",
      "F1-Score =  [0.90434783 0.78      ]\n"
     ]
    }
   ],
   "source": [
    "# making predictions using the test dataset\n",
    "y_predicted = model_2.predict(x_test)\n",
    "\n",
    "# calculating the accuracy\n",
    "accuracy = accuracy_score(y_test, y_predicted)\n",
    "\n",
    "# creating the confusion matrix\n",
    "cm = confusion_matrix(y_test, y_predicted)\n",
    "\n",
    "# calculating precision, recall, and f1 score\n",
    "precision, recall, f1, support = score(y_test, y_predicted)\n",
    "\n",
    "# printing the evaluation metrics\n",
    "print(\"Accuracy = \", accuracy)\n",
    "print(\"Precision = \", precision)\n",
    "print(\"Recall = \", recall)\n",
    "print(\"F1-Score = \", f1)"
   ]
  },
  {
   "cell_type": "code",
   "execution_count": 37,
   "id": "eb77d707",
   "metadata": {},
   "outputs": [
    {
     "data": {
      "image/png": "[encoded data removed]",
      "text/plain": [
       "<Figure size 640x480 with 2 Axes>"
      ]
     },
     "metadata": {},
     "output_type": "display_data"
    }
   ],
   "source": [
    "# Creating a plot for the confusion matrix    \n",
    "ax= plt.subplot()\n",
    "sns.heatmap(cm, annot=True, fmt='g', ax=ax);  #annot=True to annotate cells, ftm='g' to disable scientific notation\n",
    "\n",
    "# labels, title and ticks\n",
    "ax.set_xlabel('Predicted labels');ax.set_ylabel('True labels'); \n",
    "ax.set_title('Confusion Matrix'); \n",
    "ax.xaxis.set_ticklabels(['No', 'Yes']); ax.yaxis.set_ticklabels(['No', 'Yes']);"
   ]
  }
 ],
 "metadata": {
  "kernelspec": {
   "display_name": "Python 3 (ipykernel)",
   "language": "python",
   "name": "python3"
  },
  "language_info": {
   "codemirror_mode": {
    "name": "ipython",
    "version": 3
   },
   "file_extension": ".py",
   "mimetype": "text/x-python",
   "name": "python",
   "nbconvert_exporter": "python",
   "pygments_lexer": "ipython3",
   "version": "3.9.13"
  }
 },
 "nbformat": 4,
 "nbformat_minor": 5
}
